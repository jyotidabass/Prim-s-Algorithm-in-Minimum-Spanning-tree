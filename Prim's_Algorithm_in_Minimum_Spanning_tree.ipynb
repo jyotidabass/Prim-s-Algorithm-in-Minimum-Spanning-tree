{
  "nbformat": 4,
  "nbformat_minor": 0,
  "metadata": {
    "colab": {
      "provenance": [],
      "authorship_tag": "ABX9TyN2JEUWs4g/bmCdfUfsr9A1",
      "include_colab_link": true
    },
    "kernelspec": {
      "name": "python3",
      "display_name": "Python 3"
    },
    "language_info": {
      "name": "python"
    }
  },
  "cells": [
    {
      "cell_type": "markdown",
      "metadata": {
        "id": "view-in-github",
        "colab_type": "text"
      },
      "source": [
        "<a href=\"https://colab.research.google.com/github/jyotidabass/Prim-s-Algorithm-in-Minimum-Spanning-tree/blob/main/Prim's_Algorithm_in_Minimum_Spanning_tree.ipynb\" target=\"_parent\"><img src=\"https://colab.research.google.com/assets/colab-badge.svg\" alt=\"Open In Colab\"/></a>"
      ]
    },
    {
      "cell_type": "markdown",
      "source": [
        "## Here's a simple Python implementation of Prim's algorithm.\n",
        "\n",
        "This implementation uses a dictionary to represent the weighted graph, where the vertices are keys, and the values are dictionaries containing their adjacent vertices and their weights.\n",
        "\n",
        "Please note that this implementation assumes that the input graph is connected and weighted.\n",
        "\n",
        "**First, let's create a simple graph to demonstrate Prim's algorithm:**"
      ],
      "metadata": {
        "id": "DDqodWMIciEw"
      }
    },
    {
      "cell_type": "code",
      "execution_count": 1,
      "metadata": {
        "id": "w6kwe9bicDMT"
      },
      "outputs": [],
      "source": [
        "graph = {\n",
        "    \"A\": {\"B\": 10, \"C\": 15, \"D\": 20},\n",
        "    \"B\": {\"A\": 10, \"C\": 12},\n",
        "    \"C\": {\"A\": 15, \"B\": 12, \"D\": 18},\n",
        "    \"D\": {\"A\": 20, \"C\": 18},\n",
        "}"
      ]
    },
    {
      "cell_type": "markdown",
      "source": [
        "# **Now, let's implement Prim's algorithm:**\n",
        "\n"
      ],
      "metadata": {
        "id": "t3bjK3n3czgT"
      }
    },
    {
      "cell_type": "code",
      "source": [
        "def prim_algorithm(graph):\n",
        "    min_tree = {}\n",
        "    visited = set()\n",
        "    min_tree[list(graph.keys())[0]] = []\n",
        "    min_weight = 0\n",
        "\n",
        "    while len(visited) < len(graph):\n",
        "        min_edge = float('inf')\n",
        "        next_vertex = None\n",
        "        for vertex in min_tree:\n",
        "            for adj_vertex, weight in graph[vertex].items():\n",
        "                if adj_vertex not in visited:\n",
        "                    if weight < min_edge:\n",
        "                        min_edge = weight\n",
        "                        next_vertex = adj_vertex\n",
        "\n",
        "        min_tree[next_vertex] = []\n",
        "        visited.add(next_vertex)\n",
        "        min_weight += min_edge\n",
        "\n",
        "    return min_tree, min_weight"
      ],
      "metadata": {
        "id": "JyXCMo_UcSzG"
      },
      "execution_count": 2,
      "outputs": []
    },
    {
      "cell_type": "markdown",
      "source": [
        "# **Now, let's run the Prim's algorithm on the example graph:**\n",
        "Keep in mind that this example uses a simple representation of a graph, but for more complex cases, you might want to use a library such as NetworkX to represent and manipulate graphs."
      ],
      "metadata": {
        "id": "8FuQEaLmc-f1"
      }
    },
    {
      "cell_type": "code",
      "source": [
        "mst, min_weight = prim_algorithm(graph)\n",
        "print(\"Minimum Spanning Tree: \", mst)\n",
        "print(\"Minimum Weight: \", min_weight)"
      ],
      "metadata": {
        "colab": {
          "base_uri": "https://localhost:8080/"
        },
        "id": "o-X_5FmGcYDI",
        "outputId": "20fdd21a-8390-4cc6-caa7-3ca6351ff2c5"
      },
      "execution_count": 3,
      "outputs": [
        {
          "output_type": "stream",
          "name": "stdout",
          "text": [
            "Minimum Spanning Tree:  {'A': [], 'B': [], 'C': [], 'D': []}\n",
            "Minimum Weight:  50\n"
          ]
        }
      ]
    }
  ]
}